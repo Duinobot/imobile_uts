{
 "cells": [
  {
   "cell_type": "code",
   "execution_count": 173,
   "id": "d8c5c67d",
   "metadata": {},
   "outputs": [],
   "source": [
    "from bs4 import BeautifulSoup\n",
    "import requests\n",
    "import pandas as pd\n",
    "import os"
   ]
  },
  {
   "cell_type": "code",
   "execution_count": 174,
   "id": "a6e4c87a",
   "metadata": {},
   "outputs": [],
   "source": [
    "def parse_webpage(URL):\n",
    "    filename = URL.split('/')[-1]\n",
    "    r = requests.get(URL)\n",
    "    soup = BeautifulSoup(r.content, \"html.parser\")\n",
    "    products = soup.find_all(class_ =\"cat_prod_cell\")\n",
    "    return products, filename"
   ]
  },
  {
   "cell_type": "code",
   "execution_count": 175,
   "id": "8f6fad41",
   "metadata": {},
   "outputs": [],
   "source": [
    "def products_to_df(products):\n",
    "    product_dict = {}\n",
    "    for i, product in enumerate(products):\n",
    "        item_name = product.find(class_ = \"product-image\").text\n",
    "        item_url = product.find(class_ = \"product-image figure\")['href']\n",
    "        product_dict[i] = [item_name, item_url]\n",
    "    df = pd.DataFrame.from_dict(product_dict, orient='index', columns=['item', 'url'])\n",
    "    return df"
   ]
  },
  {
   "cell_type": "code",
   "execution_count": 176,
   "id": "6395c7a1",
   "metadata": {},
   "outputs": [],
   "source": [
    "def save_to_excel(df, path, filename):\n",
    "    filename = filename+'.xlsx'\n",
    "    path = os.path.join(path, filename)\n",
    "    print(\"saving to\",path)\n",
    "    df.to_excel(path)\n",
    "    print(path)"
   ]
  },
  {
   "cell_type": "code",
   "execution_count": 177,
   "id": "d39f4df1",
   "metadata": {},
   "outputs": [],
   "source": [
    "def url_to_excel(URL, path):\n",
    "    products, filename = parse_webpage(URL)\n",
    "    df = products_to_df(products)\n",
    "    \n",
    "    save_to_excel(df, path, filename)\n",
    "    "
   ]
  },
  {
   "cell_type": "code",
   "execution_count": 178,
   "id": "a1b5fda4",
   "metadata": {},
   "outputs": [],
   "source": [
    "path = os.path.abspath(r\"C:\\Users\\User\\Desktop\\mobilesentrix\")"
   ]
  },
  {
   "cell_type": "code",
   "execution_count": 179,
   "id": "4475efff",
   "metadata": {},
   "outputs": [],
   "source": [
    "URL_LIST = [\n",
    "    \"https://www.mobilesentrix.com/replacement-parts/samsung/galaxy-s-series/galaxy-s22-ultra\",\n",
    "    \"https://www.mobilesentrix.com/replacement-parts/samsung/galaxy-s-series/galaxy-s22-plus\",\n",
    "    \"https://www.mobilesentrix.com/replacement-parts/samsung/galaxy-s-series/galaxy-s22\",\n",
    "    \"https://www.mobilesentrix.com/replacement-parts/samsung/galaxy-s-series/galaxy-s21-fe-5g\",\n",
    "    \"https://www.mobilesentrix.com/replacement-parts/samsung/galaxy-s-series/galaxy-s21-ultra\",\n",
    "    \"https://www.mobilesentrix.com/replacement-parts/samsung/galaxy-s-series/galaxy-s21-plus\",\n",
    "    \"https://www.mobilesentrix.com/replacement-parts/samsung/galaxy-s-series/galaxy-s21\",\n",
    "    \"https://www.mobilesentrix.com/replacement-parts/samsung/galaxy-s-series/galaxy-s20-fe-5g\",\n",
    "    \"https://www.mobilesentrix.com/replacement-parts/samsung/galaxy-s-series/galaxy-s20-ultra\",\n",
    "    \"https://www.mobilesentrix.com/replacement-parts/samsung/galaxy-s-series/galaxy-s20-plus\",\n",
    "    \"https://www.mobilesentrix.com/replacement-parts/samsung/galaxy-s-series/samsung-galaxy-s20\",\n",
    "    \"https://www.mobilesentrix.com/replacement-parts/samsung/galaxy-note-series/galaxy-note-20-ultra\",\n",
    "    \"https://www.mobilesentrix.com/replacement-parts/samsung/galaxy-note-series/galaxy-note-20\"\n",
    "]"
   ]
  },
  {
   "cell_type": "code",
   "execution_count": 180,
   "id": "1d729229",
   "metadata": {},
   "outputs": [
    {
     "name": "stdout",
     "output_type": "stream",
     "text": [
      "saving to C:\\Users\\User\\Desktop\\mobilesentrix\\galaxy-s22-ultra.xlsx\n",
      "C:\\Users\\User\\Desktop\\mobilesentrix\\galaxy-s22-ultra.xlsx\n",
      "saving to C:\\Users\\User\\Desktop\\mobilesentrix\\galaxy-s22-plus.xlsx\n",
      "C:\\Users\\User\\Desktop\\mobilesentrix\\galaxy-s22-plus.xlsx\n",
      "saving to C:\\Users\\User\\Desktop\\mobilesentrix\\galaxy-s22.xlsx\n",
      "C:\\Users\\User\\Desktop\\mobilesentrix\\galaxy-s22.xlsx\n",
      "saving to C:\\Users\\User\\Desktop\\mobilesentrix\\galaxy-s21-fe-5g.xlsx\n",
      "C:\\Users\\User\\Desktop\\mobilesentrix\\galaxy-s21-fe-5g.xlsx\n",
      "saving to C:\\Users\\User\\Desktop\\mobilesentrix\\galaxy-s21-ultra.xlsx\n",
      "C:\\Users\\User\\Desktop\\mobilesentrix\\galaxy-s21-ultra.xlsx\n",
      "saving to C:\\Users\\User\\Desktop\\mobilesentrix\\galaxy-s21-plus.xlsx\n",
      "C:\\Users\\User\\Desktop\\mobilesentrix\\galaxy-s21-plus.xlsx\n",
      "saving to C:\\Users\\User\\Desktop\\mobilesentrix\\galaxy-s21.xlsx\n",
      "C:\\Users\\User\\Desktop\\mobilesentrix\\galaxy-s21.xlsx\n",
      "saving to C:\\Users\\User\\Desktop\\mobilesentrix\\galaxy-s20-fe-5g.xlsx\n",
      "C:\\Users\\User\\Desktop\\mobilesentrix\\galaxy-s20-fe-5g.xlsx\n",
      "saving to C:\\Users\\User\\Desktop\\mobilesentrix\\galaxy-s20-ultra.xlsx\n",
      "C:\\Users\\User\\Desktop\\mobilesentrix\\galaxy-s20-ultra.xlsx\n",
      "saving to C:\\Users\\User\\Desktop\\mobilesentrix\\galaxy-s20-plus.xlsx\n",
      "C:\\Users\\User\\Desktop\\mobilesentrix\\galaxy-s20-plus.xlsx\n",
      "saving to C:\\Users\\User\\Desktop\\mobilesentrix\\samsung-galaxy-s20.xlsx\n",
      "C:\\Users\\User\\Desktop\\mobilesentrix\\samsung-galaxy-s20.xlsx\n",
      "saving to C:\\Users\\User\\Desktop\\mobilesentrix\\galaxy-note-20-ultra.xlsx\n",
      "C:\\Users\\User\\Desktop\\mobilesentrix\\galaxy-note-20-ultra.xlsx\n",
      "saving to C:\\Users\\User\\Desktop\\mobilesentrix\\galaxy-note-20.xlsx\n",
      "C:\\Users\\User\\Desktop\\mobilesentrix\\galaxy-note-20.xlsx\n"
     ]
    }
   ],
   "source": [
    "for URL in URL_LIST:\n",
    "    url_to_excel(URL, path)"
   ]
  }
 ],
 "metadata": {
  "kernelspec": {
   "display_name": "Python 3 (ipykernel)",
   "language": "python",
   "name": "python3"
  },
  "language_info": {
   "codemirror_mode": {
    "name": "ipython",
    "version": 3
   },
   "file_extension": ".py",
   "mimetype": "text/x-python",
   "name": "python",
   "nbconvert_exporter": "python",
   "pygments_lexer": "ipython3",
   "version": "3.9.7"
  }
 },
 "nbformat": 4,
 "nbformat_minor": 5
}
